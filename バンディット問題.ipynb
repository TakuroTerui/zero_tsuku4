{
  "nbformat": 4,
  "nbformat_minor": 0,
  "metadata": {
    "colab": {
      "name": "バンディット問題.ipynb",
      "provenance": [],
      "authorship_tag": "ABX9TyP+lDm/rv0+Ww5LYzsX4V7+"
    },
    "kernelspec": {
      "name": "python3",
      "display_name": "Python 3"
    },
    "language_info": {
      "name": "python"
    }
  },
  "cells": [
    {
      "cell_type": "code",
      "execution_count": 1,
      "metadata": {
        "colab": {
          "base_uri": "https://localhost:8080/"
        },
        "id": "ZFTIq6MnNKQb",
        "outputId": "0d5e50c4-9170-48cb-a189-044c069e3991"
      },
      "outputs": [
        {
          "output_type": "stream",
          "name": "stdout",
          "text": [
            "0.5488135039273248\n",
            "0.6320014351498722\n",
            "0.6222554154571295\n",
            "0.6029123573420713\n",
            "0.567060845741438\n",
            "0.5801997236289743\n",
            "0.5598265075766483\n",
            "0.6013198192273272\n",
            "0.6415801460355164\n",
            "0.6157662833145425\n"
          ]
        }
      ],
      "source": [
        "import numpy as np\n",
        "\n",
        "# シード固定\n",
        "np.random.seed(0)\n",
        "rewards = []\n",
        "\n",
        "for n in range(1, 11): # 1から10まで\n",
        "    reward = np.random.rand()\n",
        "    rewards.append(reward)\n",
        "    Q = sum(rewards) / n\n",
        "    print(Q)"
      ]
    },
    {
      "cell_type": "code",
      "source": [
        "Q = 0\n",
        "\n",
        "for n in range(1, 11):\n",
        "    reward = np.random.rand()\n",
        "    Q = Q + (reward - Q) / n\n",
        "    print(Q)"
      ],
      "metadata": {
        "colab": {
          "base_uri": "https://localhost:8080/"
        },
        "id": "oGsQmOPyNomr",
        "outputId": "a592c38b-201c-4e72-b476-1510e5ceb685"
      },
      "execution_count": 2,
      "outputs": [
        {
          "output_type": "stream",
          "name": "stdout",
          "text": [
            "0.7917250380826646\n",
            "0.6603099789177845\n",
            "0.6295548396431672\n",
            "0.7035652893055406\n",
            "0.5770594430840099\n",
            "0.49540441918693173\n",
            "0.4275207017945595\n",
            "0.4781580947637318\n",
            "0.5114912787844116\n",
            "0.5473433657306523\n"
          ]
        }
      ]
    },
    {
      "cell_type": "markdown",
      "source": [
        "### スロットマシンの実装"
      ],
      "metadata": {
        "id": "A6hqte46OB5S"
      }
    },
    {
      "cell_type": "markdown",
      "source": [
        "- これまで実際にプレイした結果を利用して、最善と思われるスロットマシンをプレイすること（=greedyな行動）\n",
        "→活用\n",
        "- スロットマシンの価値を精度良く推定するために、様々なスロットマシンを試すこと\n",
        "→探索"
      ],
      "metadata": {
        "id": "0zadZaheVsEq"
      }
    },
    {
      "cell_type": "code",
      "source": [
        "class Bandit:\n",
        "    def __init__(self, arms=10):\n",
        "        self.rates = np.random.rand(arms) # 各マシンの勝率\n",
        "    \n",
        "    def play(self, arm):\n",
        "        rate = self.rates[arm]\n",
        "        if rate > np.random.rand():\n",
        "            return 1\n",
        "        else:\n",
        "            return 0"
      ],
      "metadata": {
        "id": "9DYhekECVLB0"
      },
      "execution_count": 3,
      "outputs": []
    },
    {
      "cell_type": "code",
      "source": [
        "bandit = Bandit()\n",
        "\n",
        "for i in range(3):\n",
        "    print(bandit.play(0))"
      ],
      "metadata": {
        "colab": {
          "base_uri": "https://localhost:8080/"
        },
        "id": "-c5ghqqfWRSj",
        "outputId": "f9a00b7d-abd7-40b7-f2ed-422154698817"
      },
      "execution_count": 4,
      "outputs": [
        {
          "output_type": "stream",
          "name": "stdout",
          "text": [
            "1\n",
            "1\n",
            "1\n"
          ]
        }
      ]
    },
    {
      "cell_type": "markdown",
      "source": [
        "### エージェントの実装"
      ],
      "metadata": {
        "id": "YRB_2Oj3Wac1"
      }
    },
    {
      "cell_type": "code",
      "source": [
        "bandit = Bandit()\n",
        "Q = 0\n",
        "\n",
        "for n in range(1, 11):\n",
        "    reward = bandit.play(0) # 0番目のスロットマシンをプレイ\n",
        "    Q += (reward - Q) / n\n",
        "    print(Q)"
      ],
      "metadata": {
        "colab": {
          "base_uri": "https://localhost:8080/"
        },
        "id": "6MmFZLljWgfL",
        "outputId": "c5840cc0-bc80-44ea-bcc2-68f767bd4f6d"
      },
      "execution_count": 7,
      "outputs": [
        {
          "output_type": "stream",
          "name": "stdout",
          "text": [
            "0.0\n",
            "0.0\n",
            "0.3333333333333333\n",
            "0.25\n",
            "0.4\n",
            "0.33333333333333337\n",
            "0.4285714285714286\n",
            "0.375\n",
            "0.3333333333333333\n",
            "0.4\n"
          ]
        }
      ]
    },
    {
      "cell_type": "code",
      "source": [
        "bandit = Bandit()\n",
        "Qs = np.zeros(10)\n",
        "ns = np.zeros(10)\n",
        "\n",
        "for n in range(10):\n",
        "    action = np.random.randint(0, 10) # ランダムな行動（スロットマシンを選択）\n",
        "    reward = bandit.play(action)\n",
        "\n",
        "    ns[action] += 1\n",
        "    Qs[action] += (reward - Qs[action]) / ns[action]"
      ],
      "metadata": {
        "id": "U1fEvo6HWxKX"
      },
      "execution_count": 8,
      "outputs": []
    },
    {
      "cell_type": "code",
      "source": [
        "class Agent:\n",
        "    def __init__(self, epsilon, action_size=10):\n",
        "        self.epsilon = epsilon\n",
        "        self.Qs = np.zeros(action_size)\n",
        "        self.ns = np.zeros(action_size)\n",
        "    \n",
        "    def update(self, action, reward):\n",
        "        self.ns[action] += 1\n",
        "        self.Qs[action] += (reward - self.Qs[action]) / self.ns[action]\n",
        "    \n",
        "    def get_action(self):\n",
        "        if np.random.rand() < self.epsilon:\n",
        "            return np.random.randint(0, len(self.Qs))\n",
        "        return np.argmax(self.Qs)"
      ],
      "metadata": {
        "id": "dqYp1WIMXqPi"
      },
      "execution_count": 9,
      "outputs": []
    },
    {
      "cell_type": "code",
      "source": [
        "import matplotlib.pyplot as plt\n",
        "\n",
        "steps = 1000\n",
        "epsilon = 0.1\n",
        "\n",
        "bandit = Bandit()\n",
        "agent = Agent(epsilon)\n",
        "total_reward = 0\n",
        "total_rewards = []\n",
        "rates = []\n",
        "\n",
        "for step in range(steps):\n",
        "    action = agent.get_action() # ①行動を選ぶ\n",
        "    reward = bandit.play(action) # ②実際にプレイして報酬を得る\n",
        "    agent.update(action, reward) # ③行動と報酬から学ぶ\n",
        "    total_reward += reward\n",
        "\n",
        "    total_rewards.append(total_reward)\n",
        "    rates.append(total_reward / (step+1))\n",
        "print(total_reward)\n",
        "\n",
        "# グラフの描画（1）\n",
        "plt.ylabel('Total reward')\n",
        "plt.xlabel('Steps')\n",
        "plt.plot(total_rewards)\n",
        "plt.show()\n",
        "\n",
        "# グラフの描画（2）\n",
        "plt.ylabel('Rates')\n",
        "plt.xlabel('Steps')\n",
        "plt.plot(rates)\n",
        "plt.show()"
      ],
      "metadata": {
        "colab": {
          "base_uri": "https://localhost:8080/",
          "height": 558
        },
        "id": "klu-zkB8YqiW",
        "outputId": "7a517aa9-f675-408e-dd33-e802abfabb53"
      },
      "execution_count": 10,
      "outputs": [
        {
          "output_type": "stream",
          "name": "stdout",
          "text": [
            "849\n"
          ]
        },
        {
          "output_type": "display_data",
          "data": {
            "text/plain": [
              "<Figure size 432x288 with 1 Axes>"
            ],
            "image/png": "[encoded data removed]"
          },
          "metadata": {
            "needs_background": "light"
          }
        },
        {
          "output_type": "display_data",
          "data": {
            "text/plain": [
              "<Figure size 432x288 with 1 Axes>"
            ],
            "image/png": "[encoded data removed]"
          },
          "metadata": {
            "needs_background": "light"
          }
        }
      ]
    },
    {
      "cell_type": "code",
      "source": [
        "# スロットマシンを1000回プレイするという、実験を200回行う\n",
        "runs = 200\n",
        "steps = 1000\n",
        "epsilon = 0.1\n",
        "all_rates = np.zeros((runs, steps)) # (200, 1000)の形状\n",
        "\n",
        "for run in range(runs): # 200回の実施\n",
        "    bandit = Bandit()\n",
        "    agent = Agent(epsilon)\n",
        "    total_reward = 0\n",
        "    rates = []\n",
        "\n",
        "    for step in range(steps):\n",
        "        action = agent.get_action() # ①行動を選ぶ\n",
        "        reward = bandit.play(action) # ②実際にプレイして報酬を得る\n",
        "        agent.update(action, reward) # ③行動と報酬から学ぶ\n",
        "        total_reward += reward\n",
        "\n",
        "        rates.append(total_reward / (step+1))\n",
        "    \n",
        "    all_rates[run] = rates # ④報酬の結果を記録する\n",
        "avg_rates = np.average(all_rates, axis=0) # ⑤各ステップにおける平均を求める\n",
        "\n",
        "# グラフの描画\n",
        "plt.ylabel('Rates')\n",
        "plt.xlabel('Steps')\n",
        "plt.plot(avg_rates)\n",
        "plt.show()"
      ],
      "metadata": {
        "colab": {
          "base_uri": "https://localhost:8080/",
          "height": 279
        },
        "id": "VI0PpcykcJI6",
        "outputId": "f78e5ad9-f401-47d0-c0c8-a810b358d4ee"
      },
      "execution_count": 11,
      "outputs": [
        {
          "output_type": "display_data",
          "data": {
            "text/plain": [
              "<Figure size 432x288 with 1 Axes>"
            ],
            "image/png": "[encoded data removed]"
          },
          "metadata": {
            "needs_background": "light"
          }
        }
      ]
    },
    {
      "cell_type": "markdown",
      "source": [
        "### 非定常問題"
      ],
      "metadata": {
        "id": "WwAbi6padU48"
      }
    },
    {
      "cell_type": "code",
      "source": [
        "class NonStatBandit:\n",
        "    def __init__(self, arms=10):\n",
        "        self.arms = arms\n",
        "        self.rates = np.random.rand(arms)\n",
        "    \n",
        "    def play(self, arm):\n",
        "        rate = self.rates[arm]\n",
        "        self.rates += 0.1 * np.random.randn(self.arms) # ノイズを追加\n",
        "        if rate > np.random.rand():\n",
        "            return 1\n",
        "        else:\n",
        "            return 0"
      ],
      "metadata": {
        "id": "vIh3zE3LdhNg"
      },
      "execution_count": 12,
      "outputs": []
    },
    {
      "cell_type": "markdown",
      "source": [
        "### 非定常問題を解く"
      ],
      "metadata": {
        "id": "tk7Al6CGeFUA"
      }
    },
    {
      "cell_type": "code",
      "source": [
        "class AlphaAgent:\n",
        "    def __init__(self, epsilon, alpha, actions=10):\n",
        "        self.epsilon = epsilon\n",
        "        self.Qs = np.zeros(actions)\n",
        "        self.alpha = alpha\n",
        "    \n",
        "    def update(self, action, reward):\n",
        "        # alphaで更新\n",
        "        self.Qs[action] += (reward - self.Qs[action]) * self.alpha\n",
        "    \n",
        "    def get_action(self):\n",
        "        if np.random.rand() < self.epsilon:\n",
        "            return np.random.randint(0, len(self.Qs))\n",
        "        return np.argmax(self.Qs)"
      ],
      "metadata": {
        "id": "T918OacxePM8"
      },
      "execution_count": 13,
      "outputs": []
    }
  ]
}