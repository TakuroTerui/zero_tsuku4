{
  "nbformat": 4,
  "nbformat_minor": 0,
  "metadata": {
    "colab": {
      "name": "モンテカルロ法.ipynb",
      "provenance": [],
      "authorship_tag": "ABX9TyO36NRFjXRsma75ipRY0cGW"
    },
    "kernelspec": {
      "name": "python3",
      "display_name": "Python 3"
    },
    "language_info": {
      "name": "python"
    }
  },
  "cells": [
    {
      "cell_type": "code",
      "execution_count": 2,
      "metadata": {
        "id": "w2ghhJLooB7H"
      },
      "outputs": [],
      "source": [
        "import gridworld as gw"
      ]
    },
    {
      "cell_type": "code",
      "source": [
        "env = gw.GridWorld()\n",
        "action = 0 # ダミーの行動\n",
        "next_state, reward, done = env.step(action)\n",
        "\n",
        "print('next_state:', next_state)\n",
        "print('reward:', reward)\n",
        "print('done:', done)"
      ],
      "metadata": {
        "colab": {
          "base_uri": "https://localhost:8080/"
        },
        "id": "0Mm6JR61pVTo",
        "outputId": "2edb0f52-8faa-4847-9eb8-e6690a2ccafd"
      },
      "execution_count": 3,
      "outputs": [
        {
          "output_type": "stream",
          "name": "stdout",
          "text": [
            "next_state: (1, 0)\n",
            "reward: 0\n",
            "done: False\n"
          ]
        }
      ]
    },
    {
      "cell_type": "code",
      "source": [
        "env = gw.GridWorld()\n",
        "state = env.reset()"
      ],
      "metadata": {
        "id": "dXYobswxpp2E"
      },
      "execution_count": 4,
      "outputs": []
    },
    {
      "cell_type": "markdown",
      "source": [
        "### エージェントクラスの実装"
      ],
      "metadata": {
        "id": "pyE-mnsUp8ML"
      }
    },
    {
      "cell_type": "code",
      "source": [
        "from collections import defaultdict\n",
        "import numpy as np"
      ],
      "metadata": {
        "id": "YPWaP-jzqdLg"
      },
      "execution_count": 5,
      "outputs": []
    },
    {
      "cell_type": "code",
      "source": [
        "class RandomAgent:\n",
        "    def __init__(self):\n",
        "        self.gamma = 0.9 # 割引率\n",
        "        self.action_size = 4 # 行動の個数\n",
        "\n",
        "        random_actions = {0: 0.25, 1: 0.25, 2: 0.25, 3: 0.25} # ランダムな行動を行う確率分布\n",
        "        self.pi = defaultdict(lambda: random_actions)\n",
        "        self.V = defaultdict(lambda: 0) # 価値関数\n",
        "        self.cnts = defaultdict(lambda: 0) # 収益の平均を求める際に使用\n",
        "        self.memory = [] # 状態、行動、報酬というデータ列を保持\n",
        "\n",
        "    def get_action(self, state):\n",
        "        action_probs = self.pi[state]\n",
        "        actions = list(action_probs.keys())\n",
        "        probs = list(action_probs.values())\n",
        "        return np.random.choice(actions, p=probs) # probsの確率分布に従って行動が1つサンプリングされる\n",
        "    \n",
        "    # 状態、行動、報酬をまとめる\n",
        "    def add(self, state, action, reward):\n",
        "        data = (state, action, reward)\n",
        "        self.memory.append(data)\n",
        "    \n",
        "    def reset(self):\n",
        "        self.memory.clear()\n",
        "    \n",
        "    def eval(self):\n",
        "        G = 0\n",
        "        for data in reversed(self.memory): # 逆向きにたどる\n",
        "            state, action, reward = data\n",
        "            G = self.gamma * G + reward\n",
        "            self.cnts[state] += 1\n",
        "            self.V[state] += (G - self.V[state]) / self.cnts[state]"
      ],
      "metadata": {
        "id": "8FduykT9p_NY"
      },
      "execution_count": 6,
      "outputs": []
    },
    {
      "cell_type": "markdown",
      "source": [
        "### モンテカルロ法を動かす"
      ],
      "metadata": {
        "id": "LuM2cxQEs6eq"
      }
    },
    {
      "cell_type": "code",
      "source": [
        "env = gw.GridWorld()\n",
        "agent = RandomAgent()\n",
        "\n",
        "episodes = 1000\n",
        "for episode in range(episodes):\n",
        "    state = env.reset()\n",
        "    agent.reset()\n",
        "\n",
        "    while True:\n",
        "        action = agent.get_action(state)\n",
        "        next_state, reward, done = env.step(action)\n",
        "\n",
        "        agent.add(state, action, reward)\n",
        "        if done:\n",
        "            agent.eval()\n",
        "            break\n",
        "        \n",
        "        state = next_state\n",
        "env.render_v(agent.V)"
      ],
      "metadata": {
        "colab": {
          "base_uri": "https://localhost:8080/",
          "height": 252
        },
        "id": "mrcpubpstPwa",
        "outputId": "252ea66b-ffb0-4526-920a-1077e85318d2"
      },
      "execution_count": 8,
      "outputs": [
        {
          "output_type": "display_data",
          "data": {
            "text/plain": [
              "<Figure size 432x288 with 1 Axes>"
            ],
            "image/png": "[encoded data removed]"
          },
          "metadata": {}
        }
      ]
    },
    {
      "cell_type": "markdown",
      "source": [
        "### モンテカルロ法を使った方策制御の実装"
      ],
      "metadata": {
        "id": "N_RGrc2Xt5sg"
      }
    },
    {
      "cell_type": "code",
      "source": [
        "class McAgnet:\n",
        "    def __init__(self):\n",
        "        self.gamma = 0.9\n",
        "        self.action_size = 4\n",
        "\n",
        "        random_actions = {0: 0.25, 1: 0.25, 2: 0.25, 3: 0.25}\n",
        "        self.pi = defaultdict(lambda: random_actions)\n",
        "        self.Q = defaultdict(lambda: 0) # VではなくQを使う\n",
        "        self.cnts = defaultdict(lambda: 0)\n",
        "        self.memory = []\n",
        "\n",
        "    def get_action(self, state):\n",
        "        action_probs = self.pi[state]\n",
        "        actions = list(action_probs.keys())\n",
        "        probs = list(action_probs.values())\n",
        "        return np.random.choice(actions, p=probs)\n",
        "    \n",
        "    def add(self, state, action, reward):\n",
        "        data = (state, action, reward)\n",
        "        self.memory.append(data)\n",
        "    \n",
        "    def reset(self):\n",
        "        self.memory.clear()\n",
        "    \n",
        "    def update(self):\n",
        "        G = 0\n",
        "        for data in reversed(self.memory):\n",
        "            state, action, reward = data\n",
        "            G = self.gamma * G + reward\n",
        "            key = (state, action)\n",
        "            self.cnts[key] += 1\n",
        "            self.Q[key] += (G - self.Q[key]) / self.cnts[key] # ②\n",
        "\n",
        "            self.pi[state] = greedy_probs(self.Q, state)"
      ],
      "metadata": {
        "id": "sFLK10J-vY5h"
      },
      "execution_count": 10,
      "outputs": []
    },
    {
      "cell_type": "code",
      "source": [
        "def greedy_probs(Q, state, action_size=4):\n",
        "    qs = [Q[(state, action)] for action in range(action_size)]\n",
        "    max_action = np.argmax(qs)\n",
        "\n",
        "    action_probs = {action: 0.0 for action in range(action_size)}\n",
        "    # この時点でaction_probsは{0:0:0, 1:0:0, 2:0:0, 3:0:0}\n",
        "    action_probs[max_action] = 1 # ①\n",
        "    return action_probs"
      ],
      "metadata": {
        "id": "8H01i1bswek2"
      },
      "execution_count": 11,
      "outputs": []
    },
    {
      "cell_type": "markdown",
      "source": [
        "#### 修正点\n",
        "- コードの①：完全なgreedyではなく、ε-greedyにする\n",
        "- コードの②：Qの更新は「固定値α方式」で行う"
      ],
      "metadata": {
        "id": "xMC2Glxhx3tg"
      }
    },
    {
      "cell_type": "markdown",
      "source": [
        "### ε-greedy法（1つ目の修正）"
      ],
      "metadata": {
        "id": "3YQavZU_yMe-"
      }
    },
    {
      "cell_type": "code",
      "source": [
        "def greedy_probs(Q, state, epsilon=0, action_size=4):\n",
        "    qs = [Q[(state, action)] for action in range(action_size)]\n",
        "    max_action = np.argmax(qs)\n",
        "\n",
        "    base_prob = epsilon / action_size\n",
        "    action_probs = {action: base_prob for action in range(action_size)}\n",
        "    # この時点でaction_probsは{0: ε/4, 1: ε/4, 2: ε/4, 3: ε/4}\n",
        "    action_probs[max_action] += (1 - epsilon)\n",
        "    return action_probs"
      ],
      "metadata": {
        "id": "QxNC_V3mye3b"
      },
      "execution_count": 12,
      "outputs": []
    },
    {
      "cell_type": "markdown",
      "source": [
        "### 固定値α方式へ（2つ目の修正）"
      ],
      "metadata": {
        "id": "jM2RaMiFzH8d"
      }
    },
    {
      "cell_type": "code",
      "source": [
        "class McAgnet:\n",
        "    def __init__(self):\n",
        "        self.gamma = 0.9\n",
        "        self.action_size = 4\n",
        "\n",
        "        random_actions = {0: 0.25, 1: 0.25, 2: 0.25, 3: 0.25}\n",
        "        self.pi = defaultdict(lambda: random_actions)\n",
        "        self.Q = defaultdict(lambda: 0) # VではなくQを使う\n",
        "        self.cnts = defaultdict(lambda: 0)\n",
        "        self.memory = []\n",
        "\n",
        "    def get_action(self, state):\n",
        "        action_probs = self.pi[state]\n",
        "        actions = list(action_probs.keys())\n",
        "        probs = list(action_probs.values())\n",
        "        return np.random.choice(actions, p=probs)\n",
        "    \n",
        "    def add(self, state, action, reward):\n",
        "        data = (state, action, reward)\n",
        "        self.memory.append(data)\n",
        "    \n",
        "    def reset(self):\n",
        "        self.memory.clear()\n",
        "    \n",
        "    def update(self):\n",
        "        G = 0\n",
        "        for data in reversed(self.memory):\n",
        "            state, action, reward = data\n",
        "            G = self.gamma * G + reward\n",
        "            key = (state, action)\n",
        "            self.cnts[key] += 1\n",
        "            # 修正前\n",
        "            # self.Q[key] += (G - self.Q[key]) / self.cnts[key] # ②\n",
        "\n",
        "            # 修正後\n",
        "            alpha = 0.1\n",
        "            self.Q[key] += (g - self.Q[key]) * alpha # ②\n",
        "\n",
        "            self.pi[state] = greedy_probs(self.Q, state)"
      ],
      "metadata": {
        "id": "rLvCD30PziXs"
      },
      "execution_count": 13,
      "outputs": []
    },
    {
      "cell_type": "markdown",
      "source": [
        "### [修正版]モンテカルロ法を使った方策反復法の実装"
      ],
      "metadata": {
        "id": "jGtlRF360OV8"
      }
    },
    {
      "cell_type": "code",
      "source": [
        "class McAgnet:\n",
        "    def __init__(self):\n",
        "        self.gamma = 0.9\n",
        "        self.epsilon = 0.1 # ε-greedyのε\n",
        "        self.alpha = 0.1 # Q値を更新する際の固定値alpha\n",
        "        self.action_size = 4\n",
        "\n",
        "        random_actions = {0: 0.25, 1: 0.25, 2: 0.25, 3: 0.25}\n",
        "        self.pi = defaultdict(lambda: random_actions)\n",
        "        self.Q = defaultdict(lambda: 0) # VではなくQを使う\n",
        "        self.memory = []\n",
        "\n",
        "    def get_action(self, state):\n",
        "        action_probs = self.pi[state]\n",
        "        actions = list(action_probs.keys())\n",
        "        probs = list(action_probs.values())\n",
        "        return np.random.choice(actions, p=probs)\n",
        "    \n",
        "    def add(self, state, action, reward):\n",
        "        data = (state, action, reward)\n",
        "        self.memory.append(data)\n",
        "    \n",
        "    def reset(self):\n",
        "        self.memory.clear()\n",
        "    \n",
        "    def update(self):\n",
        "        G = 0\n",
        "        for data in reversed(self.memory):\n",
        "            state, action, reward = data\n",
        "            G = self.gamma * G + reward\n",
        "            key = (state, action)\n",
        "            self.Q[key] += (G - self.Q[key]) * self.alpha # ①\n",
        "            self.pi[state] = greedy_probs(self.Q, state, self.epsilon)"
      ],
      "metadata": {
        "id": "2vA8FH7D0V1f"
      },
      "execution_count": 16,
      "outputs": []
    },
    {
      "cell_type": "code",
      "source": [
        "env = gw.GridWorld()\n",
        "agent = McAgnet()\n",
        "\n",
        "episodes = 10000\n",
        "for episode in range(episodes):\n",
        "    state = env.reset()\n",
        "    agent.reset()\n",
        "\n",
        "    while True:\n",
        "        action = agent.get_action(state)\n",
        "        next_state, reward, done = env.step(action)\n",
        "\n",
        "        agent.add(state, action, reward)\n",
        "        if done:\n",
        "            agent.update()\n",
        "            break\n",
        "        \n",
        "        state = next_state\n",
        "env.render_q(agent.Q)"
      ],
      "metadata": {
        "colab": {
          "base_uri": "https://localhost:8080/",
          "height": 487
        },
        "id": "g7L2G1De09cJ",
        "outputId": "aff3d823-7521-480f-bd8e-64c6d5a6a2c5"
      },
      "execution_count": 17,
      "outputs": [
        {
          "output_type": "display_data",
          "data": {
            "text/plain": [
              "<Figure size 432x288 with 1 Axes>"
            ],
            "image/png": "[encoded data removed]"
          },
          "metadata": {}
        },
        {
          "output_type": "display_data",
          "data": {
            "text/plain": [
              "<Figure size 432x288 with 1 Axes>"
            ],
            "image/png": "[encoded data removed]"
          },
          "metadata": {}
        }
      ]
    },
    {
      "cell_type": "markdown",
      "source": [
        "### 重点サンプリング\n",
        "- ある確率分布の期待値を、別の確率分布からサンプリングしたデータを使って計算する手法"
      ],
      "metadata": {
        "id": "uiv9Omsj1la0"
      }
    },
    {
      "cell_type": "code",
      "source": [
        "x = np.array([1, 2, 3])\n",
        "pi = np.array([0.1, 0.1, 0.8])\n",
        "\n",
        "# 期待値\n",
        "e = np.sum(x * pi)\n",
        "print('E_pi[x]', e)\n",
        "\n",
        "# モンテカルロ法\n",
        "n = 100\n",
        "samples = []\n",
        "for _ in range(n):\n",
        "    s = np.random.choice(x, p=pi)\n",
        "    samples.append(s)\n",
        "\n",
        "mean = np.mean(samples)\n",
        "var = np.var(samples)\n",
        "print('MC:{:.2f} (var: {:.2f})'.format(mean, var))"
      ],
      "metadata": {
        "colab": {
          "base_uri": "https://localhost:8080/"
        },
        "id": "UCIrjO4n5OH6",
        "outputId": "0f40968c-e597-44d1-90a5-c59157da9c57"
      },
      "execution_count": 18,
      "outputs": [
        {
          "output_type": "stream",
          "name": "stdout",
          "text": [
            "E_pi[x] 2.7\n",
            "MC:2.76 (var: 0.34)\n"
          ]
        }
      ]
    },
    {
      "cell_type": "code",
      "source": [
        "b = np.array([1/3, 1/3, 1/3])\n",
        "n = 100\n",
        "samples = []\n",
        "\n",
        "for _ in range(n):\n",
        "    idx = np.arange(len(b)) # [0, 1, 2]\n",
        "    i = np.random.choice(idx, p=b) # bを使ってサンプリング\n",
        "    s = x[i]\n",
        "    rho = pi[i] / b[i]\n",
        "    samples.append(rho * s)\n",
        "\n",
        "mean = np.mean(samples)\n",
        "var = np.var(samples)\n",
        "print('IS: {:.2f} (var: {:.2f})'.format(mean, var))"
      ],
      "metadata": {
        "colab": {
          "base_uri": "https://localhost:8080/"
        },
        "id": "mYES9ZDF5-Vj",
        "outputId": "cb2cd350-c33f-40f2-cc70-01dbb90c6484"
      },
      "execution_count": 20,
      "outputs": [
        {
          "output_type": "stream",
          "name": "stdout",
          "text": [
            "IS: 2.67 (var: 10.11)\n"
          ]
        }
      ]
    },
    {
      "cell_type": "code",
      "source": [
        "b = np.array([0.2, 0.2, 0.6]) # 確率分布を変更\n",
        "n = 100\n",
        "samples = []\n",
        "\n",
        "for _ in range(n):\n",
        "    idx = np.arange(len(b)) # [0, 1, 2]\n",
        "    i = np.random.choice(idx, p=b)\n",
        "    s = x[i]\n",
        "    rho = pi[i] / b[i]\n",
        "    samples.append(rho * s)\n",
        "\n",
        "mean = np.mean(samples)\n",
        "var = np.var(samples)\n",
        "print('IS: {:.2f} (var: {:.2f})'.format(mean, var))"
      ],
      "metadata": {
        "colab": {
          "base_uri": "https://localhost:8080/"
        },
        "id": "Ct6vHvMW7CRW",
        "outputId": "4f4d1d37-57d4-4e3e-b65b-7d227853931f"
      },
      "execution_count": 21,
      "outputs": [
        {
          "output_type": "stream",
          "name": "stdout",
          "text": [
            "IS: 3.03 (var: 2.21)\n"
          ]
        }
      ]
    }
  ]
}