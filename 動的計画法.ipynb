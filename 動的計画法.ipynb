{
  "nbformat": 4,
  "nbformat_minor": 0,
  "metadata": {
    "colab": {
      "name": "動的計画法.ipynb",
      "provenance": [],
      "authorship_tag": "ABX9TyPToI/fqVSHeb/5Q7ovnXGa"
    },
    "kernelspec": {
      "name": "python3",
      "display_name": "Python 3"
    },
    "language_info": {
      "name": "python"
    }
  },
  "cells": [
    {
      "cell_type": "markdown",
      "source": [
        "### 反復方策評価"
      ],
      "metadata": {
        "id": "g67oBpYx3NvN"
      }
    },
    {
      "cell_type": "code",
      "execution_count": null,
      "metadata": {
        "colab": {
          "base_uri": "https://localhost:8080/"
        },
        "id": "xTTIs3871ZZc",
        "outputId": "20f445a9-83ee-4c65-b8a0-20625eb4f9b3"
      },
      "outputs": [
        {
          "output_type": "stream",
          "name": "stdout",
          "text": [
            "{'L1': 0.0, 'L2': -0.5}\n",
            "{'L1': -0.22499999999999998, 'L2': -0.725}\n",
            "{'L1': -0.42749999999999994, 'L2': -0.9274999999999999}\n",
            "{'L1': -0.6097499999999999, 'L2': -1.10975}\n",
            "{'L1': -0.7737750000000001, 'L2': -1.273775}\n",
            "{'L1': -0.9213975000000002, 'L2': -1.4213975}\n",
            "{'L1': -1.05425775, 'L2': -1.55425775}\n",
            "{'L1': -1.1738319750000001, 'L2': -1.6738319750000001}\n",
            "{'L1': -1.2814487775, 'L2': -1.7814487775}\n",
            "{'L1': -1.3783038997500001, 'L2': -1.8783038997500001}\n",
            "{'L1': -1.4654735097750002, 'L2': -1.965473509775}\n",
            "{'L1': -1.5439261587975002, 'L2': -2.0439261587975004}\n",
            "{'L1': -1.61453354291775, 'L2': -2.11453354291775}\n",
            "{'L1': -1.6780801886259753, 'L2': -2.1780801886259753}\n",
            "{'L1': -1.735272169763378, 'L2': -2.2352721697633777}\n",
            "{'L1': -1.7867449527870403, 'L2': -2.28674495278704}\n",
            "{'L1': -1.833070457508336, 'L2': -2.3330704575083363}\n",
            "{'L1': -1.8747634117575025, 'L2': -2.3747634117575025}\n",
            "{'L1': -1.9122870705817523, 'L2': -2.412287070581752}\n",
            "{'L1': -1.9460583635235769, 'L2': -2.446058363523577}\n",
            "{'L1': -1.9764525271712192, 'L2': -2.476452527171219}\n",
            "{'L1': -2.0038072744540973, 'L2': -2.5038072744540973}\n",
            "{'L1': -2.0284265470086877, 'L2': -2.5284265470086877}\n",
            "{'L1': -2.050583892307819, 'L2': -2.550583892307819}\n",
            "{'L1': -2.070525503077037, 'L2': -2.570525503077037}\n",
            "{'L1': -2.088472952769333, 'L2': -2.588472952769333}\n",
            "{'L1': -2.1046256574923996, 'L2': -2.6046256574923996}\n",
            "{'L1': -2.1191630917431596, 'L2': -2.6191630917431596}\n",
            "{'L1': -2.132246782568844, 'L2': -2.632246782568844}\n",
            "{'L1': -2.1440221043119596, 'L2': -2.6440221043119596}\n",
            "{'L1': -2.1546198938807635, 'L2': -2.6546198938807635}\n",
            "{'L1': -2.1641579044926873, 'L2': -2.6641579044926873}\n",
            "{'L1': -2.1727421140434187, 'L2': -2.6727421140434187}\n",
            "{'L1': -2.180467902639077, 'L2': -2.680467902639077}\n",
            "{'L1': -2.1874211123751692, 'L2': -2.6874211123751692}\n",
            "{'L1': -2.193679001137652, 'L2': -2.693679001137652}\n",
            "{'L1': -2.199311101023887, 'L2': -2.699311101023887}\n",
            "{'L1': -2.204379990921498, 'L2': -2.704379990921498}\n",
            "{'L1': -2.2089419918293483, 'L2': -2.7089419918293483}\n",
            "{'L1': -2.2130477926464134, 'L2': -2.7130477926464134}\n",
            "{'L1': -2.2167430133817723, 'L2': -2.7167430133817723}\n",
            "{'L1': -2.220068712043595, 'L2': -2.720068712043595}\n",
            "{'L1': -2.2230618408392355, 'L2': -2.7230618408392355}\n",
            "{'L1': -2.225755656755312, 'L2': -2.725755656755312}\n",
            "{'L1': -2.2281800910797807, 'L2': -2.7281800910797807}\n",
            "{'L1': -2.2303620819718026, 'L2': -2.7303620819718026}\n",
            "{'L1': -2.2323258737746223, 'L2': -2.7323258737746223}\n",
            "{'L1': -2.23409328639716, 'L2': -2.73409328639716}\n",
            "{'L1': -2.235683957757444, 'L2': -2.735683957757444}\n",
            "{'L1': -2.2371155619816996, 'L2': -2.7371155619816996}\n",
            "{'L1': -2.2384040057835297, 'L2': -2.7384040057835297}\n",
            "{'L1': -2.239563605205177, 'L2': -2.739563605205177}\n",
            "{'L1': -2.2406072446846594, 'L2': -2.7406072446846594}\n",
            "{'L1': -2.2415465202161933, 'L2': -2.7415465202161933}\n",
            "{'L1': -2.242391868194574, 'L2': -2.742391868194574}\n",
            "{'L1': -2.2431526813751166, 'L2': -2.7431526813751166}\n",
            "{'L1': -2.243837413237605, 'L2': -2.743837413237605}\n",
            "{'L1': -2.2444536719138446, 'L2': -2.7444536719138446}\n",
            "{'L1': -2.24500830472246, 'L2': -2.74500830472246}\n",
            "{'L1': -2.245507474250214, 'L2': -2.745507474250214}\n",
            "{'L1': -2.2459567268251925, 'L2': -2.7459567268251925}\n",
            "{'L1': -2.2463610541426733, 'L2': -2.7463610541426733}\n",
            "{'L1': -2.246724948728406, 'L2': -2.746724948728406}\n",
            "{'L1': -2.2470524538555656, 'L2': -2.7470524538555656}\n",
            "{'L1': -2.2473472084700092, 'L2': -2.7473472084700092}\n",
            "{'L1': -2.2476124876230084, 'L2': -2.7476124876230084}\n",
            "{'L1': -2.2478512388607075, 'L2': -2.7478512388607075}\n",
            "{'L1': -2.2480661149746366, 'L2': -2.7480661149746366}\n",
            "{'L1': -2.248259503477173, 'L2': -2.748259503477173}\n",
            "{'L1': -2.2484335531294555, 'L2': -2.7484335531294555}\n",
            "{'L1': -2.24859019781651, 'L2': -2.74859019781651}\n",
            "{'L1': -2.248731178034859, 'L2': -2.748731178034859}\n",
            "{'L1': -2.248858060231373, 'L2': -2.748858060231373}\n",
            "{'L1': -2.248972254208236, 'L2': -2.748972254208236}\n",
            "{'L1': -2.2490750287874124, 'L2': -2.7490750287874124}\n",
            "{'L1': -2.249167525908671, 'L2': -2.749167525908671}\n",
            "{'L1': -2.2492507733178044, 'L2': -2.7492507733178044}\n",
            "{'L1': -2.249325695986024, 'L2': -2.749325695986024}\n",
            "{'L1': -2.249393126387422, 'L2': -2.749393126387422}\n",
            "{'L1': -2.24945381374868, 'L2': -2.74945381374868}\n",
            "{'L1': -2.249508432373812, 'L2': -2.749508432373812}\n",
            "{'L1': -2.2495575891364306, 'L2': -2.7495575891364306}\n",
            "{'L1': -2.2496018302227876, 'L2': -2.7496018302227876}\n",
            "{'L1': -2.2496416472005087, 'L2': -2.7496416472005087}\n",
            "{'L1': -2.249677482480458, 'L2': -2.749677482480458}\n",
            "{'L1': -2.249709734232412, 'L2': -2.749709734232412}\n",
            "{'L1': -2.249738760809171, 'L2': -2.749738760809171}\n",
            "{'L1': -2.249764884728254, 'L2': -2.749764884728254}\n",
            "{'L1': -2.249788396255429, 'L2': -2.749788396255429}\n",
            "{'L1': -2.249809556629886, 'L2': -2.749809556629886}\n",
            "{'L1': -2.2498286009668975, 'L2': -2.7498286009668975}\n",
            "{'L1': -2.249845740870208, 'L2': -2.749845740870208}\n",
            "{'L1': -2.2498611667831874, 'L2': -2.7498611667831874}\n",
            "{'L1': -2.249875050104869, 'L2': -2.749875050104869}\n",
            "{'L1': -2.2498875450943823, 'L2': -2.7498875450943823}\n",
            "{'L1': -2.249898790584944, 'L2': -2.749898790584944}\n",
            "{'L1': -2.24990891152645, 'L2': -2.74990891152645}\n",
            "{'L1': -2.249918020373805, 'L2': -2.749918020373805}\n",
            "{'L1': -2.249926218336425, 'L2': -2.749926218336425}\n",
            "{'L1': -2.2499335965027827, 'L2': -2.7499335965027827}\n"
          ]
        }
      ],
      "source": [
        "V = {'L1':0.0, 'L2':0.0}\n",
        "new_V = V.copy() # Vのコピー\n",
        "\n",
        "for _ in range(100):\n",
        "    new_V['L1'] = 0.5 * (-1 + 0.9 * V['L1']) + 0.5 * (1 + 0.9 * V['L2'])\n",
        "    new_V['L2'] = 0.5 * (0 + 0.9 * V['L1']) + 0.5 * (-1 + 0.9 * V['L2'])\n",
        "    V = new_V.copy()\n",
        "    print(V)"
      ]
    },
    {
      "cell_type": "code",
      "source": [
        "V = {'L1':0.0, 'L2':0.0}\n",
        "new_V = V.copy()\n",
        "\n",
        "cnt = 0 # 何回更新したかを記録\n",
        "while True:\n",
        "    new_V['L1'] = 0.5 * (-1 + 0.9 * V['L1']) + 0.5 * (1 + 0.9 * V['L2'])\n",
        "    new_V['L2'] = 0.5 * (0 + 0.9 * V['L1']) + 0.5 * (-1 + 0.9 * V['L2'])\n",
        "\n",
        "    # 更新された量の最大値\n",
        "    delta = abs(new_V['L1'] - V['L1'])\n",
        "    delta = max(delta, abs(new_V['L2'] - V['L2']))\n",
        "    V = new_V.copy()\n",
        "    cnt += 1\n",
        "    if delta < 0.0001:\n",
        "        print(V)\n",
        "        print(cnt)\n",
        "        break"
      ],
      "metadata": {
        "colab": {
          "base_uri": "https://localhost:8080/"
        },
        "id": "jbFz9SJn2CsD",
        "outputId": "bcb836ab-dab8-4af9-d54c-55473a4618ac"
      },
      "execution_count": null,
      "outputs": [
        {
          "output_type": "stream",
          "name": "stdout",
          "text": [
            "{'L1': -2.249167525908671, 'L2': -2.749167525908671}\n",
            "76\n"
          ]
        }
      ]
    },
    {
      "cell_type": "code",
      "source": [
        "V = {'L1':0.0, 'L2':0.0}\n",
        "\n",
        "cnt = 0\n",
        "while True:\n",
        "    t = 0.5 * (-1 + 0.9 * V['L1']) + 0.5 * (1 + 0.9 * V['L2'])\n",
        "    delta = abs(t - V['L1'])\n",
        "    V['L1'] = t\n",
        "\n",
        "    t = 0.5 * (0 + 0.9 * V['L1']) + 0.5 * (-1 + 0.9 * V['L2'])\n",
        "    delta = max(delta, abs(t - V['L2']))\n",
        "    V['L2'] = t\n",
        "\n",
        "    cnt += 1\n",
        "    if delta < 0.0001:\n",
        "        print(V)\n",
        "        print(cnt)\n",
        "        break"
      ],
      "metadata": {
        "colab": {
          "base_uri": "https://localhost:8080/"
        },
        "id": "pEd_D1NC2zGP",
        "outputId": "4c1fe204-e9d9-4020-9ee5-07e7104da061"
      },
      "execution_count": null,
      "outputs": [
        {
          "output_type": "stream",
          "name": "stdout",
          "text": [
            "{'L1': -2.2493782177156936, 'L2': -2.7494201578106514}\n",
            "60\n"
          ]
        }
      ]
    },
    {
      "cell_type": "markdown",
      "source": [
        "### GridWorldクラスの実装"
      ],
      "metadata": {
        "id": "gotYUdCAucMG"
      }
    },
    {
      "cell_type": "code",
      "source": [
        "import numpy as np\n",
        "\n",
        "class GridWorld:\n",
        "    def __init__(self):\n",
        "        self.action_space = [0, 1, 2, 3]\n",
        "        self.action_meantiong = {\n",
        "            0: \"UP\",\n",
        "            1: \"DOWN\",\n",
        "            2: \"LEFT\",\n",
        "            3: \"RIGHT\",\n",
        "        }\n",
        "\n",
        "        self.reward_map = np.array(\n",
        "            [\n",
        "             [0, 0, 0, 1.0],\n",
        "             [0, 0, None, -1.0],\n",
        "             [0, 0, 0, 1.0],\n",
        "            ]\n",
        "        )\n",
        "        self.goal_state = (0, 3)\n",
        "        self.wall_state = (1, 1)\n",
        "        self.start_state = (2, 0)\n",
        "        self.agent_state = self.start_state\n",
        "    \n",
        "    @property\n",
        "    def height(self):\n",
        "        return len(self.reward_map)\n",
        "    \n",
        "    @property\n",
        "    def width(self):\n",
        "        return len(self.reward_map[0])\n",
        "    \n",
        "    @property\n",
        "    def shape(self):\n",
        "        return self.reward_map.shape\n",
        "\n",
        "    def actions(self):\n",
        "        return self.action_space # [0, 1, 2, 3]\n",
        "\n",
        "    def states(self):\n",
        "        for h in range(self.height):\n",
        "            for w in range(self.width):\n",
        "                yield(h, w)"
      ],
      "metadata": {
        "id": "cF-IMJND34GK"
      },
      "execution_count": null,
      "outputs": []
    },
    {
      "cell_type": "code",
      "source": [
        "env = GridWorld()\n",
        "\n",
        "# env.height()ではなくenv.heightとして使用できる\n",
        "print(env.height)\n",
        "print(env.width)\n",
        "print(env.shape)"
      ],
      "metadata": {
        "colab": {
          "base_uri": "https://localhost:8080/"
        },
        "id": "y-n9jmuftChG",
        "outputId": "a18a4609-5b3b-460b-8cc9-85c6018d500e"
      },
      "execution_count": null,
      "outputs": [
        {
          "output_type": "stream",
          "name": "stdout",
          "text": [
            "3\n",
            "4\n",
            "(3, 4)\n"
          ]
        }
      ]
    },
    {
      "cell_type": "code",
      "source": [
        "for action in env.actions():\n",
        "    print(action)\n",
        "print('===')\n",
        "\n",
        "for state in env.states():\n",
        "    print(state)"
      ],
      "metadata": {
        "colab": {
          "base_uri": "https://localhost:8080/"
        },
        "id": "EEBokyNYuRid",
        "outputId": "a99d18f1-36e9-4a7e-f904-621372629772"
      },
      "execution_count": null,
      "outputs": [
        {
          "output_type": "stream",
          "name": "stdout",
          "text": [
            "0\n",
            "1\n",
            "2\n",
            "3\n",
            "===\n",
            "(0, 0)\n",
            "(0, 1)\n",
            "(0, 2)\n",
            "(0, 3)\n",
            "(1, 0)\n",
            "(1, 1)\n",
            "(1, 2)\n",
            "(1, 3)\n",
            "(2, 0)\n",
            "(2, 1)\n",
            "(2, 2)\n",
            "(2, 3)\n"
          ]
        }
      ]
    },
    {
      "cell_type": "code",
      "source": [
        "import numpy as np\n",
        "import matplotlib\n",
        "import matplotlib.pyplot as plt\n",
        "\n",
        "\n",
        "class Renderer:\n",
        "    def __init__(self, reward_map, goal_state, wall_state):\n",
        "        self.reward_map = reward_map\n",
        "        self.goal_state = goal_state\n",
        "        self.wall_state = wall_state\n",
        "        self.ys = len(self.reward_map)\n",
        "        self.xs = len(self.reward_map[0])\n",
        "\n",
        "        self.ax = None\n",
        "        self.fig = None\n",
        "        self.first_flg = True\n",
        "\n",
        "    def set_figure(self, figsize=None):\n",
        "        fig = plt.figure(figsize=figsize)\n",
        "        self.ax = fig.add_subplot(111)\n",
        "        ax = self.ax\n",
        "        ax.clear()\n",
        "        ax.tick_params(labelbottom=False, labelleft=False, labelright=False, labeltop=False)\n",
        "        ax.set_xticks(range(self.xs))\n",
        "        ax.set_yticks(range(self.ys))\n",
        "        ax.set_xlim(0, self.xs)\n",
        "        ax.set_ylim(0, self.ys)\n",
        "        ax.grid(True)\n",
        "\n",
        "    def render_v(self, v=None, policy=None, print_value=True):\n",
        "        self.set_figure()\n",
        "\n",
        "        ys, xs = self.ys, self.xs\n",
        "        ax = self.ax\n",
        "\n",
        "        if v is not None:\n",
        "            color_list = ['red', 'white', 'green']\n",
        "            cmap = matplotlib.colors.LinearSegmentedColormap.from_list(\n",
        "                'colormap_name', color_list)\n",
        "\n",
        "            # dict -> ndarray\n",
        "            v_dict = v\n",
        "            v = np.zeros(self.reward_map.shape)\n",
        "            for state, value in v_dict.items():\n",
        "                v[state] = value\n",
        "\n",
        "            vmax, vmin = v.max(), v.min()\n",
        "            vmax = max(vmax, abs(vmin))\n",
        "            vmin = -1 * vmax\n",
        "            vmax = 1 if vmax < 1 else vmax\n",
        "            vmin = -1 if vmin > -1 else vmin\n",
        "\n",
        "            ax.pcolormesh(np.flipud(v), cmap=cmap, vmin=vmin, vmax=vmax)\n",
        "\n",
        "        for y in range(ys):\n",
        "            for x in range(xs):\n",
        "                state = (y, x)\n",
        "                r = self.reward_map[y, x]\n",
        "                if r != 0 and r is not None:\n",
        "                    txt = 'R ' + str(r)\n",
        "                    if state == self.goal_state:\n",
        "                        txt = txt + ' (GOAL)'\n",
        "                    ax.text(x+.1, ys-y-0.9, txt)\n",
        "\n",
        "                if (v is not None) and state != self.wall_state:\n",
        "                    if print_value:\n",
        "                        offsets = [(0.4, -0.15), (-0.15, -0.3)]\n",
        "                        key = 0\n",
        "                        if v.shape[0] > 7: key = 1\n",
        "                        offset = offsets[key]\n",
        "                        ax.text(x+offset[0], ys-y+offset[1], \"{:12.2f}\".format(v[y, x]))\n",
        "\n",
        "                if policy is not None and state != self.wall_state:\n",
        "                    actions = policy[state]\n",
        "                    max_actions = [kv[0] for kv in actions.items() if kv[1] == max(actions.values())]\n",
        "\n",
        "                    arrows = [\"↑\", \"↓\", \"←\", \"→\"]\n",
        "                    offsets = [(0, 0.1), (0, -0.1), (-0.1, 0), (0.1, 0)]\n",
        "                    for action in max_actions:\n",
        "                        arrow = arrows[action]\n",
        "                        offset = offsets[action]\n",
        "                        if state == self.goal_state:\n",
        "                            continue\n",
        "                        ax.text(x+0.45+offset[0], ys-y-0.5+offset[1], arrow)\n",
        "\n",
        "                if state == self.wall_state:\n",
        "                    ax.add_patch(plt.Rectangle((x,ys-y-1), 1, 1, fc=(0.4, 0.4, 0.4, 1.)))\n",
        "        plt.show()\n",
        "\n",
        "    def render_q(self, q, show_greedy_policy=True):\n",
        "        self.set_figure()\n",
        "\n",
        "        ys, xs = self.ys, self.xs\n",
        "        ax = self.ax\n",
        "        action_space = [0, 1, 2, 3]\n",
        "\n",
        "        qmax, qmin = max(q.values()), min(q.values())\n",
        "        qmax = max(qmax, abs(qmin))\n",
        "        qmin = -1 * qmax\n",
        "        qmax = 1 if qmax < 1 else qmax\n",
        "        qmin = -1 if qmin > -1 else qmin\n",
        "\n",
        "\n",
        "        color_list = ['red', 'white', 'green']\n",
        "        cmap = matplotlib.colors.LinearSegmentedColormap.from_list(\n",
        "            'colormap_name', color_list)\n",
        "\n",
        "        for y in range(ys):\n",
        "            for x in range(xs):\n",
        "                for action in action_space:\n",
        "                    state = (y, x)\n",
        "                    r = self.reward_map[y, x]\n",
        "                    if r != 0 and r is not None:\n",
        "                        txt = 'R ' + str(r)\n",
        "                        if state == self.goal_state:\n",
        "                            txt = txt + ' (GOAL)'\n",
        "                        ax.text(x+.05, ys-y-0.95, txt)\n",
        "\n",
        "                    if state == self.goal_state:\n",
        "                        continue\n",
        "\n",
        "                    tx, ty = x, ys-y-1\n",
        "\n",
        "                    action_map = {\n",
        "                        0: ((0.5+tx, 0.5+ty), (tx+1, ty+1), (tx, ty+1)),\n",
        "                        1: ((tx, ty), (tx+1, ty), (tx+0.5, ty+0.5)),\n",
        "                        2: ((tx, ty), (tx+0.5, ty+0.5), (tx, ty+1)),\n",
        "                        3: ((0.5+tx, 0.5+ty), (tx+1, ty), (tx+1, ty+1)),\n",
        "                    }\n",
        "                    offset_map = {\n",
        "                        0: (0.1, 0.8),\n",
        "                        1: (0.1, 0.1),\n",
        "                        2: (-0.2, 0.4),\n",
        "                        3: (0.4, 0.4),\n",
        "                    }\n",
        "                    if state == self.wall_state:\n",
        "                        ax.add_patch(plt.Rectangle((tx, ty), 1, 1, fc=(0.4, 0.4, 0.4, 1.)))\n",
        "                    elif state in self.goal_state:\n",
        "                        ax.add_patch(plt.Rectangle((tx, ty), 1, 1, fc=(0., 1., 0., 1.)))\n",
        "                    else:\n",
        "\n",
        "                        tq = q[(state, action)]\n",
        "                        color_scale = 0.5 + (tq / qmax) / 2  # normalize: 0.0-1.0\n",
        "\n",
        "                        poly = plt.Polygon(action_map[action],fc=cmap(color_scale))\n",
        "                        ax.add_patch(poly)\n",
        "\n",
        "                        offset= offset_map[action]\n",
        "                        ax.text(tx+offset[0], ty+offset[1], \"{:12.2f}\".format(tq))\n",
        "        plt.show()\n",
        "\n",
        "        if show_greedy_policy:\n",
        "            policy = {}\n",
        "            for y in range(self.ys):\n",
        "                for x in range(self.xs):\n",
        "                    state = (y, x)\n",
        "                    qs = [q[state, action] for action in range(4)]  # action_size\n",
        "                    max_action = np.argmax(qs)\n",
        "                    probs = {0:0.0, 1:0.0, 2:0.0, 3:0.0}\n",
        "                    probs[max_action] = 1\n",
        "                    policy[state] = probs\n",
        "            self.render_v(None, policy)"
      ],
      "metadata": {
        "id": "b41itTb-xjkI"
      },
      "execution_count": null,
      "outputs": []
    },
    {
      "cell_type": "code",
      "source": [
        "import numpy as np\n",
        "\n",
        "class GridWorld:\n",
        "    def __init__(self):\n",
        "        self.action_space = [0, 1, 2, 3]\n",
        "        self.action_meaning = {\n",
        "            0: \"UP\",\n",
        "            1: \"DOWN\",\n",
        "            2: \"LEFT\",\n",
        "            3: \"RIGHT\",\n",
        "        }\n",
        "\n",
        "        self.reward_map = np.array(\n",
        "            [[0, 0, 0, 1.0],\n",
        "             [0, None, 0, -1.0],\n",
        "             [0, 0, 0, 0]]\n",
        "        )\n",
        "        self.goal_state = (0, 3)\n",
        "        self.wall_state = (1, 1)\n",
        "        self.start_state = (2, 0)\n",
        "        self.agent_state = self.start_state\n",
        "    \n",
        "    @property\n",
        "    def height(self):\n",
        "        return len(self.reward_map)\n",
        "    \n",
        "    @property\n",
        "    def width(self):\n",
        "        return len(self.reward_map[0])\n",
        "    \n",
        "    @property\n",
        "    def shape(self):\n",
        "        return self.reward_map.shape\n",
        "\n",
        "    def actions(self):\n",
        "        return self.action_space # [0, 1, 2, 3]\n",
        "\n",
        "    def states(self):\n",
        "        for h in range(self.height):\n",
        "            for w in range(self.width):\n",
        "                yield(h, w)\n",
        "    \n",
        "    def next_state(self, state, action):\n",
        "        # ①移動先の場所の計算\n",
        "        action_move_map = [(-1, 0), (1, 0), (0, -1), (0, 1)]\n",
        "        move = action_move_map[action]\n",
        "        next_state = (state[0] + move[0], state[1] + move[1])\n",
        "        ny, nx = next_state\n",
        "\n",
        "        # ②移動先がグリッドワールドの枠の外か、それとも移動先が壁か？\n",
        "        if nx < 0 or nx >= self.width or ny < 0 or ny >= self.height:\n",
        "            next_state = state\n",
        "        elif next_state == self.wall_state:\n",
        "            next_state = state\n",
        "        \n",
        "        return next_state # ③次の状態を返す\n",
        "    \n",
        "    def reward(self, state, action, next_state):\n",
        "        return self.reward_map[next_state]\n",
        "    \n",
        "    def render_v(self, v=None, policy=None, print_value=True):\n",
        "        renderer = Renderer(self.reward_map, self.goal_state,\n",
        "                                            self.wall_state)\n",
        "        renderer.render_v(v, policy, print_value)"
      ],
      "metadata": {
        "id": "LzOoFzOAu7KJ"
      },
      "execution_count": null,
      "outputs": []
    },
    {
      "cell_type": "code",
      "source": [
        "env = GridWorld()\n",
        "env.render_v()"
      ],
      "metadata": {
        "colab": {
          "base_uri": "https://localhost:8080/",
          "height": 252
        },
        "id": "ayQ7sY-ZxvJV",
        "outputId": "8908fb10-b8a7-44ac-abe5-bb28a2452771"
      },
      "execution_count": null,
      "outputs": [
        {
          "output_type": "display_data",
          "data": {
            "text/plain": [
              "<Figure size 432x288 with 1 Axes>"
            ],
            "image/png": "[encoded data removed]"
          },
          "metadata": {}
        }
      ]
    },
    {
      "cell_type": "code",
      "source": [
        "env = GridWorld()\n",
        "V = {}\n",
        "for state in env.states():\n",
        "    V[state] = np.random.randn() # ダミーの状態価値関数\n",
        "env.render_v(V)"
      ],
      "metadata": {
        "colab": {
          "base_uri": "https://localhost:8080/",
          "height": 252
        },
        "id": "HfkYLV1lx0y6",
        "outputId": "b92759e6-ebd8-4060-8fb1-1d48c6a79200"
      },
      "execution_count": null,
      "outputs": [
        {
          "output_type": "display_data",
          "data": {
            "text/plain": [
              "<Figure size 432x288 with 1 Axes>"
            ],
            "image/png": "[encoded data removed]"
          },
          "metadata": {}
        }
      ]
    },
    {
      "cell_type": "code",
      "source": [
        "from collections import defaultdict # defaultdictをインポート　\n",
        "\n",
        "env = GridWorld()\n",
        "V = defaultdict(lambda: 0)\n",
        "\n",
        "state = (1, 2)\n",
        "print(V[state])"
      ],
      "metadata": {
        "colab": {
          "base_uri": "https://localhost:8080/"
        },
        "id": "liXo5TGnyMwh",
        "outputId": "5945c0ac-0e0c-4433-dee4-3df8e8ff63ae"
      },
      "execution_count": null,
      "outputs": [
        {
          "output_type": "stream",
          "name": "stdout",
          "text": [
            "0\n"
          ]
        }
      ]
    },
    {
      "cell_type": "code",
      "source": [
        "# 4つの行動は均一にランダムに行えわれる\n",
        "pi = defaultdict(lambda: {0: 0.25, 1: 0.25, 2: 0.25, 3: 0.25})\n",
        "\n",
        "state = (0, 1)\n",
        "print(pi[state])"
      ],
      "metadata": {
        "colab": {
          "base_uri": "https://localhost:8080/"
        },
        "id": "6_T8tZWWzra5",
        "outputId": "a11d46d0-8e01-485d-f78d-8ea2fbae3ee4"
      },
      "execution_count": null,
      "outputs": [
        {
          "output_type": "stream",
          "name": "stdout",
          "text": [
            "{0: 0.25, 1: 0.25, 2: 0.25, 3: 0.25}\n"
          ]
        }
      ]
    },
    {
      "cell_type": "markdown",
      "source": [
        "### 反復方策評価の実装"
      ],
      "metadata": {
        "id": "WnRRe95v0NxK"
      }
    },
    {
      "cell_type": "code",
      "source": [
        "def eval_onestep(pi, V, env, gamma=0.9):\n",
        "    for state in env.states(): # ①各状態へアクセス\n",
        "        if state == env.goal_state: # ②ゴールの価値関数は常に0\n",
        "            V[state] = 0\n",
        "            continue\n",
        "        \n",
        "        action_probs = pi[state] # probsはprobabilitiesの略\n",
        "        new_V = 0\n",
        "\n",
        "        # ③各行動へアクセス\n",
        "        for action, action_prob in action_probs.items():\n",
        "            next_state = env.next_state(state, action)\n",
        "            r = env.reward(state, action, next_state)\n",
        "            # ④新しい価値関数\n",
        "            new_V += action_prob * (r + gamma * V[next_state])\n",
        "        V[state] = new_V\n",
        "    \n",
        "    return V"
      ],
      "metadata": {
        "id": "4SIksFKD0iYL"
      },
      "execution_count": null,
      "outputs": []
    },
    {
      "cell_type": "code",
      "source": [
        "def policy_eval(pi, V, env, gamma, threshold=0.001):\n",
        "    while True:\n",
        "        old_V = V.copy() # 更新前の価値関数\n",
        "        V = eval_onestep(pi, V, env, gamma)\n",
        "\n",
        "        # 更新された量の最大値を求める\n",
        "        delta = 0\n",
        "        for state in V.keys():\n",
        "            t = abs(V[state] - old_V[state])\n",
        "            if delta < t:\n",
        "                delta = t\n",
        "        \n",
        "        # 閾値との比較\n",
        "        if delta < threshold:\n",
        "            break\n",
        "    return V"
      ],
      "metadata": {
        "id": "JVimosmK1haZ"
      },
      "execution_count": null,
      "outputs": []
    },
    {
      "cell_type": "code",
      "source": [
        "env = GridWorld()\n",
        "gamma = 0.9\n",
        "\n",
        "pi = defaultdict(lambda: {0: 0.25, 1: 0.25, 2: 0.25, 3: 0.25})\n",
        "V = defaultdict(lambda: 0)\n",
        "\n",
        "V = policy_eval(pi, V, env, gamma)\n",
        "env.render_v(V, pi)"
      ],
      "metadata": {
        "colab": {
          "base_uri": "https://localhost:8080/",
          "height": 252
        },
        "id": "cppsbJBb3AQ7",
        "outputId": "5ab63695-b03a-485e-845c-39d12f32fe27"
      },
      "execution_count": null,
      "outputs": [
        {
          "output_type": "display_data",
          "data": {
            "text/plain": [
              "<Figure size 432x288 with 1 Axes>"
            ],
            "image/png": "[encoded data removed]"
          },
          "metadata": {}
        }
      ]
    },
    {
      "cell_type": "markdown",
      "source": [
        "方策をgreedy化することで\n",
        "- 方策は常に改善される\n",
        "- もし方策の改善（更新）がなければ、それが最適方策である。"
      ],
      "metadata": {
        "id": "bZpPRyXR3lua"
      }
    },
    {
      "cell_type": "code",
      "source": [
        "def argmax(d):\n",
        "    max_value = max(d.values())\n",
        "    max_key = 0\n",
        "    for key, value in d.items():\n",
        "        if value == max_value:\n",
        "            max_key = key\n",
        "    return max_key"
      ],
      "metadata": {
        "id": "d6Oc9j0a8wQ1"
      },
      "execution_count": null,
      "outputs": []
    },
    {
      "cell_type": "code",
      "source": [
        "def greedy_policy(V, enc, gamma):\n",
        "    pi = {}\n",
        "\n",
        "    for state in env.states():\n",
        "        action_values = {}\n",
        "\n",
        "        for action in env.actions():\n",
        "            next_state = env.next_state(state, action)\n",
        "            r = env.reward(state, action, next_state)\n",
        "            value = r + gamma * V[next_state] # ①\n",
        "            action_values[action] = value\n",
        "        max_action = argmax(action_values) # ②\n",
        "        action_probs = {0: 0, 1: 0, 2: 0, 3: 0}\n",
        "        action_probs[max_action] = 1.0\n",
        "        pi[state] = action_probs # ③\n",
        "    return pi"
      ],
      "metadata": {
        "id": "A8TpM9NDA_RY"
      },
      "execution_count": null,
      "outputs": []
    },
    {
      "cell_type": "code",
      "source": [
        "def policy_iter(env, gamma, threshold=0.001, is_render=False):\n",
        "    pi = defaultdict(lambda: {0: 0.25, 1: 0.25, 2: 0.25, 3: 0.25})\n",
        "    V = defaultdict(lambda: 0)\n",
        "\n",
        "    while True:\n",
        "        V = policy_eval(pi, V, env, gamma, threshold) # ①評価\n",
        "        new_pi = greedy_policy(V, env, gamma) # ②更新\n",
        "\n",
        "        if is_render:\n",
        "            env.render_v(V, pi)\n",
        "        \n",
        "        if new_pi == pi: # ③更新チェック\n",
        "            break\n",
        "        pi = new_pi\n",
        "    \n",
        "    return pi"
      ],
      "metadata": {
        "id": "kqjoOkVKCCdn"
      },
      "execution_count": null,
      "outputs": []
    },
    {
      "cell_type": "code",
      "source": [
        "env = GridWorld()\n",
        "gamma = 0.9\n",
        "pi = policy_iter(env, gamma)"
      ],
      "metadata": {
        "id": "yUhYJyluDCnx"
      },
      "execution_count": null,
      "outputs": []
    },
    {
      "cell_type": "code",
      "source": [
        "def value_iter_onestep(V, env, gamma):\n",
        "    for state in env.states(): # ①全ての状態にアクセス\n",
        "        if state == env.goal_state: # ゴールの価値関数は常に0\n",
        "            V[state] = 0\n",
        "            continue\n",
        "        \n",
        "        action_values = []\n",
        "        for action in env.actions(): # ②全ての行動にアクセス\n",
        "            next_state = env.next_state(state, action)\n",
        "            r = env.reward(state, action, next_state)\n",
        "            value = r + gamma * V[next_state] # ③新しい価値関数\n",
        "            action_values.append(value)\n",
        "        \n",
        "        V[state] = max(action_values) # ④最大値を取り出す\n",
        "    return V"
      ],
      "metadata": {
        "id": "zxS30w9KDcjm"
      },
      "execution_count": null,
      "outputs": []
    },
    {
      "cell_type": "code",
      "source": [
        "def value_iter(V, env, gamma, threshold=0.001, is_render=True):\n",
        "    while True:\n",
        "        if is_render:\n",
        "            env.render_v(V)\n",
        "        \n",
        "        old_V = V.copy() # 更新前の価値関数\n",
        "        V = value_iter_onestep(V, env, gamma)\n",
        "\n",
        "        # 更新された量の最大値を求める\n",
        "        delta = 0\n",
        "        for state in V.keys():\n",
        "            t = abs(V[state] - old_V[state])\n",
        "            if delta < t:\n",
        "                delta = t\n",
        "        # 閾値との比較\n",
        "        if delta < threshold:\n",
        "            break\n",
        "    return V"
      ],
      "metadata": {
        "id": "ub6DnltVEtPE"
      },
      "execution_count": null,
      "outputs": []
    },
    {
      "cell_type": "code",
      "source": [
        "V = defaultdict(lambda: 0)\n",
        "env = GridWorld()\n",
        "gamma = 0.9\n",
        "\n",
        "V = value_iter(V, env, gamma)\n",
        "\n",
        "pi = greedy_policy(V, env, gamma)\n",
        "env.render_v(V, pi)"
      ],
      "metadata": {
        "colab": {
          "base_uri": "https://localhost:8080/",
          "height": 1000
        },
        "id": "Vb0rYTc0FlFV",
        "outputId": "301e203e-4160-47e0-854f-23fe277dd104"
      },
      "execution_count": null,
      "outputs": [
        {
          "output_type": "display_data",
          "data": {
            "text/plain": [
              "<Figure size 432x288 with 1 Axes>"
            ],
            "image/png": "[encoded data removed]"
          },
          "metadata": {}
        },
        {
          "output_type": "display_data",
          "data": {
            "text/plain": [
              "<Figure size 432x288 with 1 Axes>"
            ],
            "image/png": "[encoded data removed]"
          },
          "metadata": {}
        },
        {
          "output_type": "display_data",
          "data": {
            "text/plain": [
              "<Figure size 432x288 with 1 Axes>"
            ],
            "image/png": "[encoded data removed]"
          },
          "metadata": {}
        },
        {
          "output_type": "display_data",
          "data": {
            "text/plain": [
              "<Figure size 432x288 with 1 Axes>"
            ],
            "image/png": "[encoded data removed]"
          },
          "metadata": {}
        },
        {
          "output_type": "display_data",
          "data": {
            "text/plain": [
              "<Figure size 432x288 with 1 Axes>"
            ],
            "image/png": "[encoded data removed]"
          },
          "metadata": {}
        }
      ]
    }
  ]
}